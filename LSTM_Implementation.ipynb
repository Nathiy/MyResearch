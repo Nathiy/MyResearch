{
 "cells": [
  {
   "cell_type": "markdown",
   "metadata": {},
   "source": [
    "# LSTM IMPLEMENTATION"
   ]
  },
  {
   "cell_type": "code",
   "execution_count": 1,
   "metadata": {},
   "outputs": [],
   "source": [
    "%run Data_Preprocessing.ipynb"
   ]
  },
  {
   "cell_type": "code",
   "execution_count": 43,
   "metadata": {},
   "outputs": [],
   "source": [
    "import torch\n",
    "import torch.nn as nn\n",
    "from torch.autograd import Variable\n",
    "from sklearn.model_selection import train_test_split, StratifiedKFold\n",
    "from sklearn.metrics import accuracy_score\n",
    "from torch.utils.data import DataLoader, TensorDataset\n",
    "from keras.layers import Dropout\n",
    "from keras.models import Sequential\n",
    "from keras.layers import Dense,LSTM\n",
    "import matplotlib.pyplot as plt\n",
    "%matplotlib inline\n",
    "import numpy as np\n",
    "import pandas as pd"
   ]
  },
  {
   "cell_type": "code",
   "execution_count": 3,
   "metadata": {},
   "outputs": [
    {
     "data": {
      "text/plain": [
       "(93, 3, 1)"
      ]
     },
     "execution_count": 3,
     "metadata": {},
     "output_type": "execute_result"
    }
   ],
   "source": [
    "y_train.shape"
   ]
  },
  {
   "cell_type": "code",
   "execution_count": 17,
   "metadata": {},
   "outputs": [],
   "source": [
    "# Initialising the RNN\n",
    "model = Sequential()\n",
    "\n",
    "model.add(LSTM(units = 64, return_sequences = True, input_shape = (x_train.shape[1],7)))\n",
    "model.add(Dropout(0.5))\n",
    "\n",
    "# Adding a second LSTM layer and Dropout layer\n",
    "model.add(LSTM(units = 64, return_sequences = True))\n",
    "model.add(Dropout(0.5))\n",
    "\n",
    "# Adding a third LSTM layer and Dropout layer\n",
    "model.add(LSTM(units = 64, return_sequences = True))\n",
    "model.add(Dropout(0.5))\n",
    "\n",
    "# Adding a forth LSTM layer and Dropout layer\n",
    "model.add(LSTM(units = 64, return_sequences = True))\n",
    "model.add(Dropout(0.5))\n",
    "\n",
    "# Adding a fifth LSTM layer and Dropout layer\n",
    "model.add(LSTM(units = 64, return_sequences = True))\n",
    "model.add(Dropout(0.5))\n",
    "\n",
    "# Adding a sixth LSTM layer and Dropout layer\n",
    "model.add(LSTM(units = 64, return_sequences = True))\n",
    "model.add(Dropout(0.5))\n",
    "\n",
    "# Adding a seventh LSTM layer and Dropout layer\n",
    "model.add(LSTM(units = 64, return_sequences = True))\n",
    "model.add(Dropout(0.2))\n",
    "\n",
    "# Adding a eighth LSTM layer and Dropout layer\n",
    "model.add(LSTM(units = 64, return_sequences = True))\n",
    "model.add(Dropout(0.2))\n",
    "\n",
    "# Adding a nineth LSTM layer and Dropout layer\n",
    "model.add(LSTM(units = 64, return_sequences = True))\n",
    "model.add(Dropout(0.2))\n",
    "\n",
    "# Adding a tenth LSTM layer and and Dropout layer\n",
    "model.add(LSTM(units = 64))\n",
    "model.add(Dropout(0.2))\n",
    "\n",
    "# Adding the output layer\n",
    "model.add(Dense(units = 1))"
   ]
  },
  {
   "cell_type": "code",
   "execution_count": 18,
   "metadata": {},
   "outputs": [
    {
     "name": "stdout",
     "output_type": "stream",
     "text": [
      "Model: \"sequential_1\"\n",
      "_________________________________________________________________\n",
      "Layer (type)                 Output Shape              Param #   \n",
      "=================================================================\n",
      "lstm_10 (LSTM)               (None, 3, 64)             18432     \n",
      "_________________________________________________________________\n",
      "dropout_10 (Dropout)         (None, 3, 64)             0         \n",
      "_________________________________________________________________\n",
      "lstm_11 (LSTM)               (None, 3, 64)             33024     \n",
      "_________________________________________________________________\n",
      "dropout_11 (Dropout)         (None, 3, 64)             0         \n",
      "_________________________________________________________________\n",
      "lstm_12 (LSTM)               (None, 3, 64)             33024     \n",
      "_________________________________________________________________\n",
      "dropout_12 (Dropout)         (None, 3, 64)             0         \n",
      "_________________________________________________________________\n",
      "lstm_13 (LSTM)               (None, 3, 64)             33024     \n",
      "_________________________________________________________________\n",
      "dropout_13 (Dropout)         (None, 3, 64)             0         \n",
      "_________________________________________________________________\n",
      "lstm_14 (LSTM)               (None, 3, 64)             33024     \n",
      "_________________________________________________________________\n",
      "dropout_14 (Dropout)         (None, 3, 64)             0         \n",
      "_________________________________________________________________\n",
      "lstm_15 (LSTM)               (None, 3, 64)             33024     \n",
      "_________________________________________________________________\n",
      "dropout_15 (Dropout)         (None, 3, 64)             0         \n",
      "_________________________________________________________________\n",
      "lstm_16 (LSTM)               (None, 3, 64)             33024     \n",
      "_________________________________________________________________\n",
      "dropout_16 (Dropout)         (None, 3, 64)             0         \n",
      "_________________________________________________________________\n",
      "lstm_17 (LSTM)               (None, 3, 64)             33024     \n",
      "_________________________________________________________________\n",
      "dropout_17 (Dropout)         (None, 3, 64)             0         \n",
      "_________________________________________________________________\n",
      "lstm_18 (LSTM)               (None, 3, 64)             33024     \n",
      "_________________________________________________________________\n",
      "dropout_18 (Dropout)         (None, 3, 64)             0         \n",
      "_________________________________________________________________\n",
      "lstm_19 (LSTM)               (None, 64)                33024     \n",
      "_________________________________________________________________\n",
      "dropout_19 (Dropout)         (None, 64)                0         \n",
      "_________________________________________________________________\n",
      "dense_1 (Dense)              (None, 1)                 65        \n",
      "=================================================================\n",
      "Total params: 315,713\n",
      "Trainable params: 315,713\n",
      "Non-trainable params: 0\n",
      "_________________________________________________________________\n"
     ]
    }
   ],
   "source": [
    "model.summary()"
   ]
  },
  {
   "cell_type": "code",
   "execution_count": 49,
   "metadata": {},
   "outputs": [],
   "source": [
    "kf = StratifiedKFold(4,shuffle=False,random_state=42)"
   ]
  },
  {
   "cell_type": "code",
   "execution_count": 50,
   "metadata": {},
   "outputs": [],
   "source": [
    "orignal_y = []\n",
    "pedicted_y = []\n",
    "fold = 0"
   ]
  },
  {
   "cell_type": "code",
   "execution_count": 51,
   "metadata": {},
   "outputs": [
    {
     "ename": "TypeError",
     "evalue": "'StratifiedKFold' object is not callable",
     "output_type": "error",
     "traceback": [
      "\u001b[1;31m---------------------------------------------------------------------------\u001b[0m",
      "\u001b[1;31mTypeError\u001b[0m                                 Traceback (most recent call last)",
      "\u001b[1;32m<ipython-input-51-c58fa99d0268>\u001b[0m in \u001b[0;36m<module>\u001b[1;34m\u001b[0m\n\u001b[1;32m----> 1\u001b[1;33m \u001b[1;32mfor\u001b[0m \u001b[0mtrain\u001b[0m\u001b[1;33m,\u001b[0m\u001b[0mtest\u001b[0m \u001b[1;32min\u001b[0m \u001b[0mkf\u001b[0m\u001b[1;33m(\u001b[0m\u001b[0mX\u001b[0m\u001b[1;33m,\u001b[0m\u001b[0mY\u001b[0m\u001b[1;33m)\u001b[0m\u001b[1;33m:\u001b[0m\u001b[1;33m\u001b[0m\u001b[1;33m\u001b[0m\u001b[0m\n\u001b[0m\u001b[0;32m      2\u001b[0m     \u001b[0mfold\u001b[0m\u001b[1;33m+=\u001b[0m\u001b[1;36m1\u001b[0m\u001b[1;33m\u001b[0m\u001b[1;33m\u001b[0m\u001b[0m\n\u001b[0;32m      3\u001b[0m    \u001b[1;31m# print(f\"Fold #{fold}\")\u001b[0m\u001b[1;33m\u001b[0m\u001b[1;33m\u001b[0m\u001b[1;33m\u001b[0m\u001b[0m\n\u001b[0;32m      4\u001b[0m     \u001b[0mx_trainv\u001b[0m \u001b[1;33m=\u001b[0m \u001b[0mX\u001b[0m\u001b[1;33m[\u001b[0m\u001b[0mtrain\u001b[0m\u001b[1;33m]\u001b[0m\u001b[1;33m\u001b[0m\u001b[1;33m\u001b[0m\u001b[0m\n\u001b[0;32m      5\u001b[0m     \u001b[0my_trainv\u001b[0m \u001b[1;33m=\u001b[0m \u001b[0mY\u001b[0m\u001b[1;33m[\u001b[0m\u001b[0mtrain\u001b[0m\u001b[1;33m]\u001b[0m\u001b[1;33m\u001b[0m\u001b[1;33m\u001b[0m\u001b[0m\n",
      "\u001b[1;31mTypeError\u001b[0m: 'StratifiedKFold' object is not callable"
     ]
    }
   ],
   "source": [
    "for train,test in kf(X,Y):\n",
    "    fold+=1\n",
    "   # print(f\"Fold #{fold}\")\n",
    "    x_trainv = X[train]\n",
    "    y_trainv = Y[train]\n",
    "    x_testv = X[test]\n",
    "    y_testv = Y[test]\n",
    "    model.compile(optimizer = 'adam', loss = 'mean_squared_error',metrics=['accuracy'])\n",
    "    history=model.fit(x_trainv, y_trainv, epochs = 30, batch_size = 50,validation_data=(x_testv,y_testv))\n",
    "    pred = model.predict(x_testv)\n",
    "    original_y.append(y_testv)\n",
    "    pred = np.argmax(pred,axis=1)\n",
    "    predicted_y.append(pred)\n",
    "    y_compare = np-argmax(y_testv,axis=1)\n",
    "    score = metrics.accuracy_score(y_compare,pred)\n",
    "    print(f\"Fold score (accuracy): {score}\")\n",
    "original_y = np.concatenate(original_y)\n",
    "predicted_y = np.concatenate(predicted_y)\n",
    "original_y_compare = np.argmax(original_y,axis=1)\n",
    "\n",
    "print(f\"Final score (accuracy): {score}\")\n",
    "\n",
    "original_y = pd.DataFrame(original_y)\n",
    "predicted_y = pd.DataFrame(predicted_y)\n",
    "final_df = pd.concat([original_y,predicted_y],axis=1)"
   ]
  },
  {
   "cell_type": "code",
   "execution_count": 20,
   "metadata": {},
   "outputs": [
    {
     "name": "stdout",
     "output_type": "stream",
     "text": [
      "Epoch 1/30\n",
      "2/2 [==============================] - ETA: 0s - loss: 0.2596 - accuracy: 0.42 - 2s 996ms/step - loss: 0.2665 - accuracy: 0.4086 - val_loss: 0.2520 - val_accuracy: 0.5054\n",
      "Epoch 2/30\n",
      "2/2 [==============================] - ETA: 0s - loss: 0.2524 - accuracy: 0.49 - 0s 17ms/step - loss: 0.2496 - accuracy: 0.5341 - val_loss: 0.2503 - val_accuracy: 0.5054\n",
      "Epoch 3/30\n",
      "2/2 [==============================] - ETA: 0s - loss: 0.2535 - accuracy: 0.52 - 0s 18ms/step - loss: 0.2503 - accuracy: 0.5448 - val_loss: 0.2500 - val_accuracy: 0.4946\n",
      "Epoch 4/30\n",
      "2/2 [==============================] - ETA: 0s - loss: 0.2550 - accuracy: 0.51 - 0s 17ms/step - loss: 0.2505 - accuracy: 0.5305 - val_loss: 0.2501 - val_accuracy: 0.4946\n",
      "Epoch 5/30\n",
      "2/2 [==============================] - ETA: 0s - loss: 0.2505 - accuracy: 0.40 - 0s 16ms/step - loss: 0.2530 - accuracy: 0.4373 - val_loss: 0.2501 - val_accuracy: 0.4946\n",
      "Epoch 6/30\n",
      "2/2 [==============================] - ETA: 0s - loss: 0.2517 - accuracy: 0.50 - 0s 17ms/step - loss: 0.2509 - accuracy: 0.5197 - val_loss: 0.2500 - val_accuracy: 0.4946\n",
      "Epoch 7/30\n",
      "2/2 [==============================] - ETA: 0s - loss: 0.2507 - accuracy: 0.48 - 0s 16ms/step - loss: 0.2521 - accuracy: 0.4588 - val_loss: 0.2500 - val_accuracy: 0.5054\n",
      "Epoch 8/30\n",
      "2/2 [==============================] - ETA: 0s - loss: 0.2534 - accuracy: 0.45 - 0s 18ms/step - loss: 0.2523 - accuracy: 0.4839 - val_loss: 0.2503 - val_accuracy: 0.5054\n",
      "Epoch 9/30\n",
      "2/2 [==============================] - ETA: 0s - loss: 0.2474 - accuracy: 0.57 - 0s 17ms/step - loss: 0.2508 - accuracy: 0.5090 - val_loss: 0.2506 - val_accuracy: 0.5054\n",
      "Epoch 10/30\n",
      "2/2 [==============================] - ETA: 0s - loss: 0.2449 - accuracy: 0.53 - 0s 16ms/step - loss: 0.2467 - accuracy: 0.5125 - val_loss: 0.2504 - val_accuracy: 0.5054\n",
      "Epoch 11/30\n",
      "2/2 [==============================] - ETA: 0s - loss: 0.2533 - accuracy: 0.51 - 0s 16ms/step - loss: 0.2542 - accuracy: 0.4839 - val_loss: 0.2502 - val_accuracy: 0.5054\n",
      "Epoch 12/30\n",
      "2/2 [==============================] - ETA: 0s - loss: 0.2469 - accuracy: 0.53 - 0s 16ms/step - loss: 0.2504 - accuracy: 0.4982 - val_loss: 0.2500 - val_accuracy: 0.5054\n",
      "Epoch 13/30\n",
      "2/2 [==============================] - ETA: 0s - loss: 0.2472 - accuracy: 0.50 - 0s 17ms/step - loss: 0.2501 - accuracy: 0.4982 - val_loss: 0.2500 - val_accuracy: 0.5054\n",
      "Epoch 14/30\n",
      "2/2 [==============================] - ETA: 0s - loss: 0.2494 - accuracy: 0.54 - 0s 15ms/step - loss: 0.2530 - accuracy: 0.4803 - val_loss: 0.2500 - val_accuracy: 0.4946\n",
      "Epoch 15/30\n",
      "2/2 [==============================] - ETA: 0s - loss: 0.2522 - accuracy: 0.42 - 0s 16ms/step - loss: 0.2522 - accuracy: 0.4229 - val_loss: 0.2500 - val_accuracy: 0.5054\n",
      "Epoch 16/30\n",
      "2/2 [==============================] - ETA: 0s - loss: 0.2562 - accuracy: 0.44 - 0s 16ms/step - loss: 0.2535 - accuracy: 0.4767 - val_loss: 0.2500 - val_accuracy: 0.5054\n",
      "Epoch 17/30\n",
      "2/2 [==============================] - ETA: 0s - loss: 0.2561 - accuracy: 0.44 - 0s 15ms/step - loss: 0.2529 - accuracy: 0.4803 - val_loss: 0.2500 - val_accuracy: 0.5054\n",
      "Epoch 18/30\n",
      "2/2 [==============================] - ETA: 0s - loss: 0.2548 - accuracy: 0.43 - 0s 16ms/step - loss: 0.2519 - accuracy: 0.4624 - val_loss: 0.2500 - val_accuracy: 0.5054\n",
      "Epoch 19/30\n",
      "2/2 [==============================] - ETA: 0s - loss: 0.2484 - accuracy: 0.55 - 0s 18ms/step - loss: 0.2521 - accuracy: 0.4910 - val_loss: 0.2500 - val_accuracy: 0.5054\n",
      "Epoch 20/30\n",
      "2/2 [==============================] - ETA: 0s - loss: 0.2603 - accuracy: 0.47 - 0s 16ms/step - loss: 0.2551 - accuracy: 0.5197 - val_loss: 0.2501 - val_accuracy: 0.5054\n",
      "Epoch 21/30\n",
      "2/2 [==============================] - ETA: 0s - loss: 0.2569 - accuracy: 0.40 - 0s 15ms/step - loss: 0.2572 - accuracy: 0.4229 - val_loss: 0.2503 - val_accuracy: 0.5054\n",
      "Epoch 22/30\n",
      "2/2 [==============================] - ETA: 0s - loss: 0.2470 - accuracy: 0.52 - 0s 15ms/step - loss: 0.2559 - accuracy: 0.4229 - val_loss: 0.2505 - val_accuracy: 0.5054\n",
      "Epoch 23/30\n",
      "2/2 [==============================] - ETA: 0s - loss: 0.2485 - accuracy: 0.54 - 0s 16ms/step - loss: 0.2512 - accuracy: 0.5161 - val_loss: 0.2502 - val_accuracy: 0.5054\n",
      "Epoch 24/30\n",
      "2/2 [==============================] - ETA: 0s - loss: 0.2534 - accuracy: 0.48 - 0s 16ms/step - loss: 0.2524 - accuracy: 0.4946 - val_loss: 0.2500 - val_accuracy: 0.5054\n",
      "Epoch 25/30\n",
      "2/2 [==============================] - ETA: 0s - loss: 0.2563 - accuracy: 0.39 - 0s 17ms/step - loss: 0.2537 - accuracy: 0.4301 - val_loss: 0.2500 - val_accuracy: 0.5054\n",
      "Epoch 26/30\n",
      "2/2 [==============================] - ETA: 0s - loss: 0.2543 - accuracy: 0.44 - 0s 16ms/step - loss: 0.2523 - accuracy: 0.4875 - val_loss: 0.2500 - val_accuracy: 0.5054\n",
      "Epoch 27/30\n",
      "2/2 [==============================] - ETA: 0s - loss: 0.2602 - accuracy: 0.35 - 0s 15ms/step - loss: 0.2547 - accuracy: 0.4086 - val_loss: 0.2500 - val_accuracy: 0.5054\n",
      "Epoch 28/30\n",
      "2/2 [==============================] - ETA: 0s - loss: 0.2486 - accuracy: 0.58 - 0s 15ms/step - loss: 0.2472 - accuracy: 0.5771 - val_loss: 0.2502 - val_accuracy: 0.5054\n",
      "Epoch 29/30\n",
      "2/2 [==============================] - ETA: 0s - loss: 0.2524 - accuracy: 0.48 - 0s 15ms/step - loss: 0.2510 - accuracy: 0.4839 - val_loss: 0.2503 - val_accuracy: 0.5054\n",
      "Epoch 30/30\n",
      "2/2 [==============================] - ETA: 0s - loss: 0.2489 - accuracy: 0.55 - 0s 16ms/step - loss: 0.2518 - accuracy: 0.5161 - val_loss: 0.2503 - val_accuracy: 0.5054\n"
     ]
    }
   ],
   "source": [
    " #compile and fit the model on 30 epochs\n",
    "model.compile(optimizer = 'adam', loss = 'mean_squared_error',metrics=['accuracy'])\n",
    "history=model.fit(x_train, y_train, epochs = 30, batch_size = 50,validation_data=(x_test,y_test))"
   ]
  },
  {
   "cell_type": "code",
   "execution_count": 16,
   "metadata": {},
   "outputs": [],
   "source": [
    "res = model.predict(x_test)"
   ]
  },
  {
   "cell_type": "code",
   "execution_count": 8,
   "metadata": {},
   "outputs": [
    {
     "name": "stdout",
     "output_type": "stream",
     "text": [
      "1/1 [==============================] - ETA: 0s - loss: 0.2500 - accuracy: 0.50 - 0s 3ms/step - loss: 0.2500 - accuracy: 0.5054\n",
      "Test: accuracy = 0.505376  ;  loss = 0.249979\n"
     ]
    }
   ],
   "source": [
    "loss_l, accuracy_a = model.evaluate(x_test, y_test, verbose=1)\n",
    "#loss_v, accuracy_v = model.evaluate(x_validate, y_validate, verbose=1)\n",
    "#print(\"Validation: accuracy = %f  ;  loss_v = %f\" % (accuracy_v, loss_v))\n",
    "print(\"Test: accuracy = %f  ;  loss = %f\" % (accuracy_a, loss_l))"
   ]
  },
  {
   "cell_type": "code",
   "execution_count": 9,
   "metadata": {},
   "outputs": [
    {
     "name": "stdout",
     "output_type": "stream",
     "text": [
      "0.5053763389587402 0.2499794214963913\n"
     ]
    }
   ],
   "source": [
    "print(accuracy_a, loss_l)"
   ]
  },
  {
   "cell_type": "code",
   "execution_count": 10,
   "metadata": {},
   "outputs": [],
   "source": [
    "for i in res:\n",
    "    if i[0]>= 0.5:\n",
    "        i[0]=1\n",
    "    else:\n",
    "        i[0]=0"
   ]
  },
  {
   "cell_type": "code",
   "execution_count": 11,
   "metadata": {},
   "outputs": [],
   "source": [
    "y_val = [0] * 31\n",
    "for i in range(31):\n",
    "    y_val[i] = y_test[i][2]"
   ]
  },
  {
   "cell_type": "code",
   "execution_count": 12,
   "metadata": {},
   "outputs": [
    {
     "data": {
      "image/png": "[encoded data removed]",
      "text/plain": [
       "<Figure size 432x288 with 1 Axes>"
      ]
     },
     "metadata": {
      "needs_background": "light"
     },
     "output_type": "display_data"
    }
   ],
   "source": [
    "plt.scatter(range(31),res,c=\"r\")\n",
    "plt.scatter(range(31),y_val,c=\"g\")\n",
    "plt.show()"
   ]
  },
  {
   "cell_type": "code",
   "execution_count": 13,
   "metadata": {},
   "outputs": [
    {
     "data": {
      "image/png": "[encoded data removed]",
      "text/plain": [
       "<Figure size 432x288 with 1 Axes>"
      ]
     },
     "metadata": {
      "needs_background": "light"
     },
     "output_type": "display_data"
    }
   ],
   "source": [
    "plt.plot(history.history['loss'])\n",
    "plt.show()"
   ]
  },
  {
   "cell_type": "code",
   "execution_count": 14,
   "metadata": {},
   "outputs": [
    {
     "data": {
      "image/png": "[encoded data removed]",
      "text/plain": [
       "<Figure size 432x288 with 1 Axes>"
      ]
     },
     "metadata": {
      "needs_background": "light"
     },
     "output_type": "display_data"
    }
   ],
   "source": [
    "plt.plot(history.history['accuracy'])\n",
    "plt.show()"
   ]
  },
  {
   "cell_type": "code",
   "execution_count": 23,
   "metadata": {},
   "outputs": [
    {
     "data": {
      "image/png": "[encoded data removed]",
      "text/plain": [
       "<Figure size 432x288 with 1 Axes>"
      ]
     },
     "metadata": {
      "needs_background": "light"
     },
     "output_type": "display_data"
    }
   ],
   "source": [
    "plt.scatter(range(30),history.history['accuracy'],c=\"r\")\n",
    "plt.scatter(range(30),history.history['loss'],c=\"g\")\n",
    "plt.show()"
   ]
  },
  {
   "cell_type": "code",
   "execution_count": 34,
   "metadata": {},
   "outputs": [
    {
     "data": {
      "image/png": "[encoded data removed]",
      "text/plain": [
       "<Figure size 432x288 with 1 Axes>"
      ]
     },
     "metadata": {
      "needs_background": "light"
     },
     "output_type": "display_data"
    }
   ],
   "source": [
    "t_loss = history.history['loss']\n",
    "v_loss = history.history['val_loss']\n",
    "epochs = range(0,30)\n",
    "plt.plot(epochs, t_loss, 'g', label='Training loss')\n",
    "plt.plot(epochs, v_loss, 'b', label='validation loss')\n",
    "plt.title('Training and Validation loss')\n",
    "plt.xlabel('Epochs')\n",
    "plt.ylabel('Loss')\n",
    "plt.legend()\n",
    "plt.show()"
   ]
  },
  {
   "cell_type": "code",
   "execution_count": null,
   "metadata": {},
   "outputs": [],
   "source": []
  }
 ],
 "metadata": {
  "kernelspec": {
   "display_name": "Python 2",
   "language": "python",
   "name": "python2"
  },
  "language_info": {
   "codemirror_mode": {
    "name": "ipython",
    "version": 2
   },
   "file_extension": ".py",
   "mimetype": "text/x-python",
   "name": "python",
   "nbconvert_exporter": "python",
   "pygments_lexer": "ipython2",
   "version": "2.7.16"
  }
 },
 "nbformat": 4,
 "nbformat_minor": 2
}
